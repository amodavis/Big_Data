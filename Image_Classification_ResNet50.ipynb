{
 "cells": [
  {
   "cell_type": "markdown",
   "metadata": {},
   "source": [
    "## File information\n",
    "\n",
    "File: Assignment_6.3.ipynb\n",
    "\n",
    "Name: Amie Davis\n",
    "\n",
    "Date: 1/15/2021\n",
    "\n",
    "Course: DSC650 - Big Data\n",
    "\n",
    "Assignment Number: 6.3\n",
    "\n",
    "Purpose: Perform images classification using Keras' ResNet50 model\n"
   ]
  },
  {
   "cell_type": "markdown",
   "metadata": {},
   "source": [
    "### References: https://keras.io/api/applications/#classify-imagenet-classes-with-resnet50"
   ]
  },
  {
   "cell_type": "code",
   "execution_count": 1,
   "metadata": {},
   "outputs": [],
   "source": [
    "# Import required packages\n",
    "import keras\n",
    "\n",
    "from tensorflow.keras.applications.resnet50 import ResNet50\n",
    "from tensorflow.keras.preprocessing import image\n",
    "from tensorflow.keras.applications.resnet50 import preprocess_input, decode_predictions\n",
    "import numpy as np\n",
    "\n",
    "import matplotlib.pyplot as plt\n",
    "\n",
    "import os\n",
    "from pathlib import Path"
   ]
  },
  {
   "cell_type": "code",
   "execution_count": 2,
   "metadata": {},
   "outputs": [],
   "source": [
    "# Set results directory for writing\n",
    "import os\n",
    "\n",
    "current_dir = Path(os.getcwd()).absolute()\n",
    "results_dir = current_dir.joinpath('results')\n",
    "results_dir.mkdir(parents=True, exist_ok=True)\n",
    "pred_dir = results_dir.joinpath('predictions')\n",
    "pred_dir.mkdir(parents=True, exist_ok=True)\n",
    "rez_dir = pred_dir.joinpath('resnet50')\n",
    "rez_dir.mkdir(parents=True, exist_ok=True)\n",
    "output_path = rez_dir.joinpath('6.3_output.txt')\n",
    "\n",
    "image_dir = current_dir.joinpath('images')\n",
    "image_dir.mkdir(parents=True, exist_ok=True)\n",
    "image_path1 = image_dir.joinpath('elephant.jpg')\n",
    "image_path2 = image_dir.joinpath('brown_heron.jpg')\n",
    "image_path3 = image_dir.joinpath('mazda6.jpg')\n",
    "image_path4 = image_dir.joinpath('rubix_cube.jpg')\n",
    "image_path5 = image_dir.joinpath('black_panther.jpg')\n",
    "image_path6 = image_dir.joinpath('pancakes.jpg')\n",
    "image_path7 = image_dir.joinpath('elvis.jpg')\n",
    "image_path8 = image_dir.joinpath('beach.jpg')"
   ]
  },
  {
   "cell_type": "markdown",
   "metadata": {},
   "source": [
    "## Use Keras' ResNet50 model"
   ]
  },
  {
   "cell_type": "code",
   "execution_count": 3,
   "metadata": {},
   "outputs": [],
   "source": [
    "# Set model\n",
    "model = ResNet50(weights='imagenet')"
   ]
  },
  {
   "cell_type": "code",
   "execution_count": 5,
   "metadata": {},
   "outputs": [
    {
     "name": "stdout",
     "output_type": "stream",
     "text": [
      "/home/jovyan/dsc650/dsc650/assignments/assignment06/images/elephant.jpg\n",
      "Top Predicted Classifications: [('n02504458', 'African_elephant', 0.82441497), ('n01871265', 'tusker', 0.13024771), ('n02504013', 'Indian_elephant', 0.0450453)]\n",
      "\n",
      "\n",
      "/home/jovyan/dsc650/dsc650/assignments/assignment06/images/brown_heron.jpg\n",
      "Top Predicted Classifications: [('n02009912', 'American_egret', 0.65401363), ('n02012849', 'crane', 0.29959893), ('n02009229', 'little_blue_heron', 0.041909814)]\n",
      "\n",
      "\n",
      "/home/jovyan/dsc650/dsc650/assignments/assignment06/images/mazda6.jpg\n",
      "Top Predicted Classifications: [('n03459775', 'grille', 0.5550667), ('n04285008', 'sports_car', 0.15522261), ('n03770679', 'minivan', 0.15521756)]\n",
      "\n",
      "\n",
      "/home/jovyan/dsc650/dsc650/assignments/assignment06/images/rubix_cube.jpg\n",
      "Top Predicted Classifications: [('n03637318', 'lampshade', 0.7923201), ('n04380533', 'table_lamp', 0.08034326), ('n04131690', 'saltshaker', 0.018887475)]\n",
      "\n",
      "\n",
      "/home/jovyan/dsc650/dsc650/assignments/assignment06/images/black_panther.jpg\n",
      "Top Predicted Classifications: [('n03424325', 'gasmask', 0.39724994), ('n03803284', 'muzzle', 0.19846866), ('n03146219', 'cuirass', 0.19226594)]\n",
      "\n",
      "\n",
      "/home/jovyan/dsc650/dsc650/assignments/assignment06/images/pancakes.jpg\n",
      "Top Predicted Classifications: [('n07920052', 'espresso', 0.28728676), ('n03443371', 'goblet', 0.2217832), ('n07579787', 'plate', 0.12054154)]\n",
      "\n",
      "\n",
      "/home/jovyan/dsc650/dsc650/assignments/assignment06/images/elvis.jpg\n",
      "Top Predicted Classifications: [('n04201297', 'shoji', 0.93931574), ('n09835506', 'ballplayer', 0.021105176), ('n04005630', 'prison', 0.007911853)]\n",
      "\n",
      "\n",
      "/home/jovyan/dsc650/dsc650/assignments/assignment06/images/beach.jpg\n",
      "Top Predicted Classifications: [('n09428293', 'seashore', 0.810462), ('n09332890', 'lakeside', 0.11253014), ('n09421951', 'sandbar', 0.054353572)]\n",
      "\n",
      "\n"
     ]
    }
   ],
   "source": [
    "# Prepare images and make predictions\n",
    "\n",
    "# Loop through each image number\n",
    "for i in range(1, 9):\n",
    "    \n",
    "    # Set variables for each iteration\n",
    "    image_var = 'img' + str(i)\n",
    "    image_path_var = 'image_path' + str(i)\n",
    "    x_var = 'x' + str(i)\n",
    "    preds_var = 'preds' + str(i)\n",
    "\n",
    "    # Load & Prepare Images\n",
    "    # Use exec to use variables as variable names for assignment\n",
    "    # img1 = image.load_img(image1_path, target_size=(224, 224))\n",
    "    # x1 = image.img_to_array(img1)\n",
    "    # x1 = np.expand_dims(x1, axis=0)\n",
    "    # x1 = preprocess_input(x1)\n",
    "    exec(image_var + \" = image.load_img(\" + image_path_var + \", target_size=(224, 224))\")\n",
    "    exec(x_var + \" = image.img_to_array(\" + image_var + \")\")\n",
    "    exec(x_var + \" = np.expand_dims(\" + x_var + \", axis=0)\")\n",
    "    exec(x_var + \" = preprocess_input(\" + x_var + \")\")\n",
    "    \n",
    "    # Predict classification, given the image\n",
    "    # preds1 = model.predict(x1)\n",
    "    exec(preds_var + \" = model.predict(\" + x_var + \")\")\n",
    "    \n",
    "    # Print top 3 class predictions to file\n",
    "    # print('elephant.jpg Predicted Classification:', decode_predictions(preds1, top=3)[0])\n",
    "    exec(\"print(\" + image_path_var + \")\")\n",
    "    exec(\"print('Top Predicted Classifications:', decode_predictions(\" + preds_var + \", top=3)[0])\")\n",
    "    print('\\n')\n",
    "    \n",
    "    # Save top 3 class predictions to file\n",
    "    with open(output_path, 'a') as f:\n",
    "        # f.write('Image1 Predicted Classification:')\n",
    "        # f.write(str(decode_predictions(preds1, top=3)[0]))\n",
    "        exec(\"f.write('Image\" + str(i) + \" Top Predicted Classifications:')\")\n",
    "        exec(\"f.write(str(decode_predictions(\" + preds_var + \", top=3)[0]))\")\n",
    "        f.write('\\n')"
   ]
  },
  {
   "cell_type": "code",
   "execution_count": null,
   "metadata": {},
   "outputs": [],
   "source": []
  }
 ],
 "metadata": {
  "kernelspec": {
   "display_name": "Python 3",
   "language": "python",
   "name": "python3"
  },
  "language_info": {
   "codemirror_mode": {
    "name": "ipython",
    "version": 3
   },
   "file_extension": ".py",
   "mimetype": "text/x-python",
   "name": "python",
   "nbconvert_exporter": "python",
   "pygments_lexer": "ipython3",
   "version": "3.8.3"
  }
 },
 "nbformat": 4,
 "nbformat_minor": 2
}
