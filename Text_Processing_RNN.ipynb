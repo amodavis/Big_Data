{
 "cells": [
  {
   "cell_type": "markdown",
   "metadata": {},
   "source": [
    "# File information\n",
    "File: Assignment_10.ipynb\n",
    "\n",
    "Name: Amie Davis\n",
    "\n",
    "Date: 2/9/2021\n",
    "\n",
    "Course: DSC650 - Big Data\n",
    "\n",
    "Assignment Number: 10,1, 10.2, 10.3\n",
    "\n",
    "Purpose:\n",
    "- Transform text input into tokens and convert those tokens into numeric vectors using one-hot encoding and feature hashing.\n",
    "- Build basic text-processing models using recurrent neural networks (RNN)\n",
    "- Understand how word embeddings such as Word2Vec can help improve the performance of text-processing models"
   ]
  },
  {
   "cell_type": "markdown",
   "metadata": {},
   "source": [
    "# References:\n",
    "\n",
    "Bengfort, B., Bilbro, R., & Ojeda, T. (2018). Applied Text Analysis with Python: Enabling Language Aware Data Products with Machine Learning. Sebastopol, CA: OReilly Media, Incorporated.\n",
    "\n",
    "Chollet, F. (2018). Deep learning with Python. Shelter Island, NY: Manning Publications.\n",
    "\n",
    "https://keras.io/api/datasets/imdb/"
   ]
  },
  {
   "cell_type": "markdown",
   "metadata": {},
   "source": [
    "# Assignment 10.1\n",
    "Implement basic text-preprocessing functions in Python. These functions do not need to scale to large text documents and will only need to handle small inputs. "
   ]
  },
  {
   "cell_type": "markdown",
   "metadata": {},
   "source": [
    "## Assignment 10.1a\n",
    "Create a tokenize function that splits a sentence into words. Ensure that your tokenizer removes basic punctuation. "
   ]
  },
  {
   "cell_type": "code",
   "execution_count": 1,
   "metadata": {},
   "outputs": [
    {
     "data": {
      "text/plain": [
       "['create',\n",
       " 'a',\n",
       " 'tokenize',\n",
       " 'function',\n",
       " 'that',\n",
       " 'splits',\n",
       " 'a',\n",
       " 'sentence',\n",
       " 'into',\n",
       " 'words',\n",
       " 'ensure',\n",
       " 'that',\n",
       " 'your',\n",
       " 'tokenizer',\n",
       " 'removes',\n",
       " 'basic',\n",
       " 'punctuation']"
      ]
     },
     "execution_count": 1,
     "metadata": {},
     "output_type": "execute_result"
    }
   ],
   "source": [
    "import sys, unicodedata\n",
    "def tokenize(sentence):\n",
    "    \n",
    "    # Create a dictionary of punctuation characters\n",
    "    punctuation = dict.fromkeys(i for i in range(sys.maxunicode)\n",
    "                                if unicodedata.category(chr(i)).startswith('P'))\n",
    "    \n",
    "    # Remove punctuation characters\n",
    "    sentence = sentence.translate(punctuation)\n",
    "    \n",
    "    # Change to lowercase\n",
    "    sentence = sentence.lower()\n",
    "\n",
    "    tokens = []\n",
    "    # tokenize the sentence\n",
    "    for word in sentence.split():\n",
    "        tokens.append(word)\n",
    "        \n",
    "    return tokens\n",
    "\n",
    "#Test function\n",
    "tokenize('Create a tokenize function that splits a sentence into words. Ensure that your tokenizer removes basic punctuation.')"
   ]
  },
  {
   "cell_type": "markdown",
   "metadata": {},
   "source": [
    "## Assignment 10.1b\n",
    "Implement an `ngram` function that splits tokens into N-grams.  "
   ]
  },
  {
   "cell_type": "code",
   "execution_count": 2,
   "metadata": {},
   "outputs": [
    {
     "data": {
      "text/plain": [
       "[['create', 'a', 'tokenize', 'function', 'that'],\n",
       " ['a', 'tokenize', 'function', 'that', 'splits'],\n",
       " ['tokenize', 'function', 'that', 'splits', 'a'],\n",
       " ['function', 'that', 'splits', 'a', 'sentence'],\n",
       " ['that', 'splits', 'a', 'sentence', 'into'],\n",
       " ['splits', 'a', 'sentence', 'into', 'words']]"
      ]
     },
     "execution_count": 2,
     "metadata": {},
     "output_type": "execute_result"
    }
   ],
   "source": [
    "def ngram(tokens, n):\n",
    "    \n",
    "    ngrams = []\n",
    "    # Create ngrams\n",
    "    for idx in range(len(tokens)-n+1):\n",
    "        ngrams.append(tokens[idx:idx+n])\n",
    "    \n",
    "    return ngrams\n",
    "\n",
    "# Test function\n",
    "ngram(['create','a','tokenize','function','that','splits','a','sentence','into','words'], 5)"
   ]
  },
  {
   "cell_type": "markdown",
   "metadata": {},
   "source": [
    "## Assignment 10.1c\n",
    "Implement a one_hot_encode function to create a vector from a numerical vector from a list of tokens. "
   ]
  },
  {
   "cell_type": "code",
   "execution_count": 3,
   "metadata": {},
   "outputs": [
    {
     "data": {
      "text/plain": [
       "array([[0., 1., 0., 0., 0., 0., 0., 0., 0., 0.],\n",
       "       [0., 0., 1., 0., 0., 0., 0., 0., 0., 0.],\n",
       "       [0., 0., 0., 1., 0., 0., 0., 0., 0., 0.],\n",
       "       [0., 0., 0., 0., 1., 0., 0., 0., 0., 0.],\n",
       "       [0., 0., 0., 0., 0., 1., 0., 0., 0., 0.],\n",
       "       [0., 0., 0., 0., 0., 0., 1., 0., 0., 0.],\n",
       "       [0., 0., 1., 0., 0., 0., 0., 0., 0., 0.],\n",
       "       [0., 0., 0., 0., 0., 0., 0., 1., 0., 0.],\n",
       "       [0., 0., 0., 0., 0., 0., 0., 0., 1., 0.],\n",
       "       [0., 0., 0., 0., 0., 0., 0., 0., 0., 1.]])"
      ]
     },
     "execution_count": 3,
     "metadata": {},
     "output_type": "execute_result"
    }
   ],
   "source": [
    "import numpy as np\n",
    "def one_hot_encode(tokens, num_words):\n",
    "    \n",
    "    token_index = {}\n",
    "    results = ''\n",
    "    \n",
    "    for token in tokens:\n",
    "        \n",
    "        # Assign unique index to each unique token\n",
    "        if token not in token_index:\n",
    "            token_index[token] = len(token_index) + 1\n",
    "\n",
    "    # Initialize vector of zeros\n",
    "    results = np.zeros(shape=(\n",
    "                        len(tokens),\n",
    "#                        num_words,\n",
    "                        max(token_index.values()) + 1))    # Vectorized tokens\n",
    "\n",
    "    for i, token in enumerate(tokens):\n",
    "        index = token_index.get(token)\n",
    "        results[i, index] = 1.\n",
    "#        print(i,token)\n",
    "        \n",
    "    return results\n",
    "\n",
    "# Test function\n",
    "one_hot_encode(['create','a','tokenize','function','that','splits','a','sentence','into','words'], 3)"
   ]
  },
  {
   "cell_type": "markdown",
   "metadata": {},
   "source": [
    "# Assignment 10.2\n",
    "Using listings 6.16, 6.17, and 6.18 in Deep Learning with Python as a guide, train a sequential model with embeddings on the IMDB data found in data/external/imdb/. Produce the model performance metrics and training and validation accuracy curves within the Jupyter notebook."
   ]
  },
  {
   "cell_type": "code",
   "execution_count": 4,
   "metadata": {},
   "outputs": [],
   "source": [
    "# Process the labels of the raw IMDB data\n",
    "# The Keras imdb dataset is represented by integers\n",
    "# Need to download dataset to set strings\n",
    "import os\n",
    "\n",
    "imdb_dir = 'aclImdb'\n",
    "train_dir = os.path.join(imdb_dir, 'train')\n",
    "\n",
    "labels = []\n",
    "texts = []\n",
    "\n",
    "# Negative reviews are stored in the neg subdirectory\n",
    "# Positive reviews are stored in the pos subdirectory\n",
    "for label_type in ['neg', 'pos']:\n",
    "    dir_name = os.path.join(train_dir, label_type)\n",
    "    for fname in os.listdir(dir_name):\n",
    "        if fname[-4:] == '.txt':\n",
    "            f = open(os.path.join(dir_name, fname), encoding=\"utf8\")\n",
    "            texts.append(f.read())\n",
    "            f.close()\n",
    "            if label_type == 'neg':\n",
    "                labels.append(0)\n",
    "            else:\n",
    "                labels.append(1)"
   ]
  },
  {
   "cell_type": "code",
   "execution_count": 5,
   "metadata": {},
   "outputs": [
    {
     "name": "stderr",
     "output_type": "stream",
     "text": [
      "Using TensorFlow backend.\n",
      "C:\\Users\\amomu\\Anaconda3\\lib\\site-packages\\tensorflow\\python\\framework\\dtypes.py:516: FutureWarning: Passing (type, 1) or '1type' as a synonym of type is deprecated; in a future version of numpy, it will be understood as (type, (1,)) / '(1,)type'.\n",
      "  _np_qint8 = np.dtype([(\"qint8\", np.int8, 1)])\n",
      "C:\\Users\\amomu\\Anaconda3\\lib\\site-packages\\tensorflow\\python\\framework\\dtypes.py:517: FutureWarning: Passing (type, 1) or '1type' as a synonym of type is deprecated; in a future version of numpy, it will be understood as (type, (1,)) / '(1,)type'.\n",
      "  _np_quint8 = np.dtype([(\"quint8\", np.uint8, 1)])\n",
      "C:\\Users\\amomu\\Anaconda3\\lib\\site-packages\\tensorflow\\python\\framework\\dtypes.py:518: FutureWarning: Passing (type, 1) or '1type' as a synonym of type is deprecated; in a future version of numpy, it will be understood as (type, (1,)) / '(1,)type'.\n",
      "  _np_qint16 = np.dtype([(\"qint16\", np.int16, 1)])\n",
      "C:\\Users\\amomu\\Anaconda3\\lib\\site-packages\\tensorflow\\python\\framework\\dtypes.py:519: FutureWarning: Passing (type, 1) or '1type' as a synonym of type is deprecated; in a future version of numpy, it will be understood as (type, (1,)) / '(1,)type'.\n",
      "  _np_quint16 = np.dtype([(\"quint16\", np.uint16, 1)])\n",
      "C:\\Users\\amomu\\Anaconda3\\lib\\site-packages\\tensorflow\\python\\framework\\dtypes.py:520: FutureWarning: Passing (type, 1) or '1type' as a synonym of type is deprecated; in a future version of numpy, it will be understood as (type, (1,)) / '(1,)type'.\n",
      "  _np_qint32 = np.dtype([(\"qint32\", np.int32, 1)])\n",
      "C:\\Users\\amomu\\Anaconda3\\lib\\site-packages\\tensorflow\\python\\framework\\dtypes.py:525: FutureWarning: Passing (type, 1) or '1type' as a synonym of type is deprecated; in a future version of numpy, it will be understood as (type, (1,)) / '(1,)type'.\n",
      "  np_resource = np.dtype([(\"resource\", np.ubyte, 1)])\n",
      "C:\\Users\\amomu\\Anaconda3\\lib\\site-packages\\tensorboard\\compat\\tensorflow_stub\\dtypes.py:541: FutureWarning: Passing (type, 1) or '1type' as a synonym of type is deprecated; in a future version of numpy, it will be understood as (type, (1,)) / '(1,)type'.\n",
      "  _np_qint8 = np.dtype([(\"qint8\", np.int8, 1)])\n",
      "C:\\Users\\amomu\\Anaconda3\\lib\\site-packages\\tensorboard\\compat\\tensorflow_stub\\dtypes.py:542: FutureWarning: Passing (type, 1) or '1type' as a synonym of type is deprecated; in a future version of numpy, it will be understood as (type, (1,)) / '(1,)type'.\n",
      "  _np_quint8 = np.dtype([(\"quint8\", np.uint8, 1)])\n",
      "C:\\Users\\amomu\\Anaconda3\\lib\\site-packages\\tensorboard\\compat\\tensorflow_stub\\dtypes.py:543: FutureWarning: Passing (type, 1) or '1type' as a synonym of type is deprecated; in a future version of numpy, it will be understood as (type, (1,)) / '(1,)type'.\n",
      "  _np_qint16 = np.dtype([(\"qint16\", np.int16, 1)])\n",
      "C:\\Users\\amomu\\Anaconda3\\lib\\site-packages\\tensorboard\\compat\\tensorflow_stub\\dtypes.py:544: FutureWarning: Passing (type, 1) or '1type' as a synonym of type is deprecated; in a future version of numpy, it will be understood as (type, (1,)) / '(1,)type'.\n",
      "  _np_quint16 = np.dtype([(\"quint16\", np.uint16, 1)])\n",
      "C:\\Users\\amomu\\Anaconda3\\lib\\site-packages\\tensorboard\\compat\\tensorflow_stub\\dtypes.py:545: FutureWarning: Passing (type, 1) or '1type' as a synonym of type is deprecated; in a future version of numpy, it will be understood as (type, (1,)) / '(1,)type'.\n",
      "  _np_qint32 = np.dtype([(\"qint32\", np.int32, 1)])\n",
      "C:\\Users\\amomu\\Anaconda3\\lib\\site-packages\\tensorboard\\compat\\tensorflow_stub\\dtypes.py:550: FutureWarning: Passing (type, 1) or '1type' as a synonym of type is deprecated; in a future version of numpy, it will be understood as (type, (1,)) / '(1,)type'.\n",
      "  np_resource = np.dtype([(\"resource\", np.ubyte, 1)])\n"
     ]
    },
    {
     "name": "stdout",
     "output_type": "stream",
     "text": [
      "Found 88582 unique tokens.\n",
      "Shape of data tensor: (25000, 100)\n",
      "Shape of label tensor: (25000,)\n"
     ]
    }
   ],
   "source": [
    "# Tokenize the text of the raw IMDB data \n",
    "from keras.preprocessing.text import Tokenizer\n",
    "from keras.preprocessing.sequence import pad_sequences\n",
    "import numpy as np\n",
    "\n",
    "maxlen = 100    # Cuts off reviews after 100 words\n",
    "max_words = 10000    # Considers only the top 10,000 words in the dataset\n",
    "\n",
    "# Split 10,000 training reviews into training and validation samples (70/30)\n",
    "training_samples = int(10000 * 0.7)\n",
    "validation_samples = int(10000 * 0.3)\n",
    "\n",
    "# Creates vocabulary index based on word frequency\n",
    "tokenizer = Tokenizer(num_words=max_words)\n",
    "tokenizer.fit_on_texts(texts)\n",
    "sequences = tokenizer.texts_to_sequences(texts)\n",
    "\n",
    "# Transforms to a sequence of integers\n",
    "word_index = tokenizer.word_index\n",
    "print('Found %s unique tokens.' % len(word_index))\n",
    "\n",
    "# Pad data since all sequences in a batch must have the same length\n",
    "data = pad_sequences(sequences, maxlen=maxlen)\n",
    "\n",
    "labels = np.asarray(labels)\n",
    "print('Shape of data tensor:', data.shape)\n",
    "print('Shape of label tensor:', labels.shape)\n",
    "\n",
    "# Shuffle data before splitting dataset\n",
    "indices = np.arange(data.shape[0])\n",
    "np.random.shuffle(indices)\n",
    "data = data[indices]\n",
    "labels = labels[indices]\n",
    "\n",
    "# Split into train/validation datasets\n",
    "x_train = data[:training_samples]\n",
    "y_train = labels[:training_samples]\n",
    "x_val = data[training_samples: training_samples + validation_samples]\n",
    "y_val = labels[training_samples: training_samples + validation_samples]"
   ]
  },
  {
   "cell_type": "code",
   "execution_count": 6,
   "metadata": {},
   "outputs": [
    {
     "name": "stdout",
     "output_type": "stream",
     "text": [
      "Model: \"sequential_1\"\n",
      "_________________________________________________________________\n",
      "Layer (type)                 Output Shape              Param #   \n",
      "=================================================================\n",
      "embedding_1 (Embedding)      (None, 100, 100)          1000000   \n",
      "_________________________________________________________________\n",
      "flatten_1 (Flatten)          (None, 10000)             0         \n",
      "_________________________________________________________________\n",
      "dense_1 (Dense)              (None, 32)                320032    \n",
      "_________________________________________________________________\n",
      "dense_2 (Dense)              (None, 1)                 33        \n",
      "=================================================================\n",
      "Total params: 1,320,065\n",
      "Trainable params: 1,320,065\n",
      "Non-trainable params: 0\n",
      "_________________________________________________________________\n",
      "WARNING:tensorflow:From C:\\Users\\amomu\\Anaconda3\\lib\\site-packages\\tensorflow\\python\\ops\\nn_impl.py:180: add_dispatch_support.<locals>.wrapper (from tensorflow.python.ops.array_ops) is deprecated and will be removed in a future version.\n",
      "Instructions for updating:\n",
      "Use tf.where in 2.0, which has the same broadcast rule as np.where\n",
      "WARNING:tensorflow:From C:\\Users\\amomu\\Anaconda3\\lib\\site-packages\\keras\\backend\\tensorflow_backend.py:422: The name tf.global_variables is deprecated. Please use tf.compat.v1.global_variables instead.\n",
      "\n",
      "Train on 7000 samples, validate on 3000 samples\n",
      "Epoch 1/10\n",
      "7000/7000 [==============================] - 4s 564us/step - loss: 0.5555 - acc: 0.7049 - val_loss: 0.4442 - val_acc: 0.7910\n",
      "Epoch 2/10\n",
      "7000/7000 [==============================] - 4s 547us/step - loss: 0.1561 - acc: 0.9474 - val_loss: 0.4152 - val_acc: 0.8167\n",
      "Epoch 3/10\n",
      "7000/7000 [==============================] - 4s 544us/step - loss: 0.0151 - acc: 0.9964 - val_loss: 0.5390 - val_acc: 0.8077\n",
      "Epoch 4/10\n",
      "7000/7000 [==============================] - 4s 542us/step - loss: 5.5530e-04 - acc: 0.9999 - val_loss: 0.6875 - val_acc: 0.8090\n",
      "Epoch 5/10\n",
      "7000/7000 [==============================] - 4s 544us/step - loss: 7.7617e-05 - acc: 1.0000 - val_loss: 0.7638 - val_acc: 0.8107\n",
      "Epoch 6/10\n",
      "7000/7000 [==============================] - 4s 555us/step - loss: 1.0333e-06 - acc: 1.0000 - val_loss: 0.8703 - val_acc: 0.8133\n",
      "Epoch 7/10\n",
      "7000/7000 [==============================] - 4s 543us/step - loss: 3.5361e-08 - acc: 1.0000 - val_loss: 0.9213 - val_acc: 0.8147\n",
      "Epoch 8/10\n",
      "7000/7000 [==============================] - 4s 544us/step - loss: 1.1185e-08 - acc: 1.0000 - val_loss: 0.9444 - val_acc: 0.8140\n",
      "Epoch 9/10\n",
      "7000/7000 [==============================] - 4s 544us/step - loss: 7.6962e-09 - acc: 1.0000 - val_loss: 0.9587 - val_acc: 0.8157\n",
      "Epoch 10/10\n",
      "7000/7000 [==============================] - 4s 561us/step - loss: 6.0453e-09 - acc: 1.0000 - val_loss: 0.9695 - val_acc: 0.8137\n"
     ]
    }
   ],
   "source": [
    "# Train model without pretrained word embeddings\n",
    "from keras.models import Sequential\n",
    "from keras.layers import Embedding, Flatten, Dense\n",
    "\n",
    "embedding_dim = 100\n",
    "\n",
    "# Instantiate model\n",
    "model = Sequential()\n",
    "\n",
    "# Add embedding layer to vectorize words\n",
    "model.add(Embedding(max_words, embedding_dim, input_length=maxlen))\n",
    "\n",
    "# Flattens 3D embedded tensor into 2D tensor\n",
    "model.add(Flatten())\n",
    "\n",
    "# Binary Classifier Model\n",
    "model.add(Dense(32, activation='relu'))\n",
    "model.add(Dense(1, activation='sigmoid'))\n",
    "\n",
    "# Review layers\n",
    "model.summary()\n",
    "\n",
    "# Compile and fit model\n",
    "model.compile(optimizer='rmsprop',\n",
    "              loss='binary_crossentropy',\n",
    "              metrics=['acc'])\n",
    "\n",
    "history = model.fit(x_train, y_train,\n",
    "                    epochs=10,\n",
    "                    batch_size=32,\n",
    "                    validation_data=(x_val, y_val))"
   ]
  },
  {
   "cell_type": "code",
   "execution_count": 7,
   "metadata": {},
   "outputs": [
    {
     "data": {
      "image/png": "[encoded data removed]",
      "text/plain": [
       "<Figure size 432x288 with 1 Axes>"
      ]
     },
     "metadata": {
      "needs_background": "light"
     },
     "output_type": "display_data"
    },
    {
     "data": {
      "image/png": "[encoded data removed]",
      "text/plain": [
       "<Figure size 432x288 with 1 Axes>"
      ]
     },
     "metadata": {
      "needs_background": "light"
     },
     "output_type": "display_data"
    }
   ],
   "source": [
    "# Plot results\n",
    "import matplotlib.pyplot as plt\n",
    "\n",
    "acc = history.history['acc']\n",
    "val_acc = history.history['val_acc']\n",
    "loss = history.history['loss']\n",
    "val_loss = history.history['val_loss']\n",
    "\n",
    "epochs = range(1, len(acc) + 1)\n",
    "\n",
    "plt.plot(epochs, acc, 'bo', label='Training acc')\n",
    "plt.plot(epochs, val_acc, 'b', label='Validation acc')\n",
    "plt.title('Training and validation accuracy')\n",
    "plt.legend()\n",
    "\n",
    "plt.figure()\n",
    "\n",
    "plt.plot(epochs, loss, 'bo', label='Training loss')\n",
    "plt.plot(epochs, val_loss, 'b', label='Validation loss')\n",
    "plt.title('Training and validation loss')\n",
    "plt.legend()\n",
    "\n",
    "plt.show()"
   ]
  },
  {
   "cell_type": "markdown",
   "metadata": {},
   "source": [
    "A lot of loss on the valdation training set. Accuracy peaks with 4 epochs."
   ]
  },
  {
   "cell_type": "code",
   "execution_count": 8,
   "metadata": {},
   "outputs": [
    {
     "name": "stdout",
     "output_type": "stream",
     "text": [
      "Train on 7000 samples, validate on 3000 samples\n",
      "Epoch 1/4\n",
      "7000/7000 [==============================] - 4s 540us/step - loss: 5.1521e-09 - acc: 1.0000 - val_loss: 0.9779 - val_acc: 0.8133\n",
      "Epoch 2/4\n",
      "7000/7000 [==============================] - 4s 545us/step - loss: 4.7075e-09 - acc: 1.0000 - val_loss: 0.9860 - val_acc: 0.8137\n",
      "Epoch 3/4\n",
      "7000/7000 [==============================] - 4s 542us/step - loss: 4.4786e-09 - acc: 1.0000 - val_loss: 0.9934 - val_acc: 0.8113\n",
      "Epoch 4/4\n",
      "7000/7000 [==============================] - 4s 556us/step - loss: 4.3210e-09 - acc: 1.0000 - val_loss: 0.9983 - val_acc: 0.8113\n"
     ]
    }
   ],
   "source": [
    "# Re-run w/ 4 epochs\n",
    "history = model.fit(x_train, y_train,\n",
    "                    epochs=4,\n",
    "                    batch_size=32,\n",
    "                    validation_data=(x_val, y_val))"
   ]
  },
  {
   "cell_type": "code",
   "execution_count": 9,
   "metadata": {},
   "outputs": [],
   "source": [
    "# Prepare test data\n",
    "test_dir = os.path.join(imdb_dir, 'test')\n",
    "\n",
    "labels = []\n",
    "texts = []\n",
    "\n",
    "for label_type in ['neg', 'pos']:\n",
    "    dir_name = os.path.join(test_dir, label_type)\n",
    "    for fname in sorted(os.listdir(dir_name)):\n",
    "        if fname[-4:] == '.txt':\n",
    "            f = open(os.path.join(dir_name, fname),encoding=\"utf8\")\n",
    "            texts.append(f.read())\n",
    "            f.close()\n",
    "            if label_type == 'neg':\n",
    "                labels.append(0)\n",
    "            else:\n",
    "                labels.append(1)\n",
    "\n",
    "sequences = tokenizer.texts_to_sequences(texts)\n",
    "x_test = pad_sequences(sequences, maxlen=maxlen)\n",
    "y_test = np.asarray(labels)"
   ]
  },
  {
   "cell_type": "code",
   "execution_count": 10,
   "metadata": {},
   "outputs": [
    {
     "name": "stdout",
     "output_type": "stream",
     "text": [
      "25000/25000 [==============================] - 1s 57us/step\n"
     ]
    },
    {
     "data": {
      "text/plain": [
       "[1.0145229630964994, 0.8131999969482422]"
      ]
     },
     "execution_count": 10,
     "metadata": {},
     "output_type": "execute_result"
    }
   ],
   "source": [
    "# Evaluate the model on the test set\n",
    "model.evaluate(x_test, y_test)"
   ]
  },
  {
   "cell_type": "markdown",
   "metadata": {},
   "source": [
    "81% accuracy, not bad.  When originally trainined on the full 25,000 dataset, model was more overfit and only 50% accuracte on validation and test sets."
   ]
  },
  {
   "cell_type": "markdown",
   "metadata": {},
   "source": [
    "# Assignment 10.3\n",
    "Using listing 6.27 in Deep Learning with Python as a guide, fit the same data with an LSTM layer. Produce the model performance metrics and training and validation accuracy curves within the Jupyter notebook."
   ]
  },
  {
   "cell_type": "code",
   "execution_count": 11,
   "metadata": {},
   "outputs": [
    {
     "name": "stdout",
     "output_type": "stream",
     "text": [
      "Train on 5600 samples, validate on 1400 samples\n",
      "Epoch 1/10\n",
      "5600/5600 [==============================] - 5s 931us/step - loss: 0.6474 - acc: 0.6361 - val_loss: 0.5278 - val_acc: 0.7700\n",
      "Epoch 2/10\n",
      "5600/5600 [==============================] - 5s 847us/step - loss: 0.4441 - acc: 0.8100 - val_loss: 0.4380 - val_acc: 0.8329\n",
      "Epoch 3/10\n",
      "5600/5600 [==============================] - 5s 854us/step - loss: 0.3120 - acc: 0.8823 - val_loss: 0.4010 - val_acc: 0.8371\n",
      "Epoch 4/10\n",
      "5600/5600 [==============================] - 5s 851us/step - loss: 0.2339 - acc: 0.9230 - val_loss: 0.3898 - val_acc: 0.8357\n",
      "Epoch 5/10\n",
      "5600/5600 [==============================] - 5s 817us/step - loss: 0.1767 - acc: 0.9450 - val_loss: 0.3974 - val_acc: 0.8286\n",
      "Epoch 6/10\n",
      "5600/5600 [==============================] - 5s 862us/step - loss: 0.1366 - acc: 0.9602 - val_loss: 0.5131 - val_acc: 0.8157\n",
      "Epoch 7/10\n",
      "5600/5600 [==============================] - 5s 857us/step - loss: 0.1013 - acc: 0.9746 - val_loss: 0.5710 - val_acc: 0.8179\n",
      "Epoch 8/10\n",
      "5600/5600 [==============================] - 5s 835us/step - loss: 0.0859 - acc: 0.9757 - val_loss: 0.6091 - val_acc: 0.8150\n",
      "Epoch 9/10\n",
      "5600/5600 [==============================] - 5s 845us/step - loss: 0.0659 - acc: 0.9832 - val_loss: 0.5074 - val_acc: 0.8257\n",
      "Epoch 10/10\n",
      "5600/5600 [==============================] - 5s 850us/step - loss: 0.0507 - acc: 0.9850 - val_loss: 0.5748 - val_acc: 0.8029\n"
     ]
    }
   ],
   "source": [
    "# Fit the same data with an LSTM layer\n",
    "from keras.layers import LSTM\n",
    "\n",
    "# Instantiate model\n",
    "model = Sequential()\n",
    "\n",
    "# Add embedding layer to vectorize words\n",
    "model.add(Embedding(max_words, 32))\n",
    "\n",
    "# Add LSTM RNN layer\n",
    "model.add(LSTM(32))\n",
    "\n",
    "# Binary Classifier Model\n",
    "model.add(Dense(1, activation='sigmoid'))\n",
    "\n",
    "# Compile and fit model\n",
    "model.compile(optimizer='rmsprop',\n",
    "              loss='binary_crossentropy',\n",
    "              metrics=['acc'])\n",
    "\n",
    "# Splits previous training set into 80/20 for validation\n",
    "history = model.fit(x_train, y_train,\n",
    "                    epochs=10,\n",
    "                    batch_size=128,\n",
    "                    validation_split=0.2)"
   ]
  },
  {
   "cell_type": "code",
   "execution_count": 12,
   "metadata": {},
   "outputs": [
    {
     "data": {
      "image/png": "[encoded data removed]",
      "text/plain": [
       "<Figure size 432x288 with 1 Axes>"
      ]
     },
     "metadata": {
      "needs_background": "light"
     },
     "output_type": "display_data"
    },
    {
     "data": {
      "image/png": "[encoded data removed]",
      "text/plain": [
       "<Figure size 432x288 with 1 Axes>"
      ]
     },
     "metadata": {
      "needs_background": "light"
     },
     "output_type": "display_data"
    }
   ],
   "source": [
    "# Plot results\n",
    "import matplotlib.pyplot as plt\n",
    "\n",
    "acc = history.history['acc']\n",
    "val_acc = history.history['val_acc']\n",
    "loss = history.history['loss']\n",
    "val_loss = history.history['val_loss']\n",
    "\n",
    "epochs = range(1, len(acc) + 1)\n",
    "\n",
    "plt.plot(epochs, acc, 'bo', label='Training acc')\n",
    "plt.plot(epochs, val_acc, 'b', label='Validation acc')\n",
    "plt.title('Training and validation accuracy')\n",
    "plt.legend()\n",
    "\n",
    "plt.figure()\n",
    "\n",
    "plt.plot(epochs, loss, 'bo', label='Training loss')\n",
    "plt.plot(epochs, val_loss, 'b', label='Validation loss')\n",
    "plt.title('Training and validation loss')\n",
    "plt.legend()\n",
    "\n",
    "plt.show()"
   ]
  },
  {
   "cell_type": "markdown",
   "metadata": {},
   "source": [
    "Overfit again!"
   ]
  },
  {
   "cell_type": "code",
   "execution_count": 13,
   "metadata": {},
   "outputs": [
    {
     "name": "stdout",
     "output_type": "stream",
     "text": [
      "25000/25000 [==============================] - 13s 522us/step\n"
     ]
    },
    {
     "data": {
      "text/plain": [
       "[0.5954227439522743, 0.7846400141716003]"
      ]
     },
     "execution_count": 13,
     "metadata": {},
     "output_type": "execute_result"
    }
   ],
   "source": [
    "# Evaluate the model on the test set\n",
    "model.evaluate(x_test, y_test)"
   ]
  },
  {
   "cell_type": "markdown",
   "metadata": {},
   "source": [
    "With the LSTM layer, the accuracy is still around 80%, at 78%."
   ]
  },
  {
   "cell_type": "markdown",
   "metadata": {},
   "source": [
    "# Assignment 10.4\n",
    "Using listing 6.46 in Deep Learning with Python as a guide, fit the same data with a simple 1D convnet. Produce the model performance metrics and training and validation accuracy curves within the Jupyter notebook."
   ]
  },
  {
   "cell_type": "code",
   "execution_count": 15,
   "metadata": {},
   "outputs": [
    {
     "name": "stdout",
     "output_type": "stream",
     "text": [
      "WARNING:tensorflow:From C:\\Users\\amomu\\Anaconda3\\lib\\site-packages\\keras\\backend\\tensorflow_backend.py:4070: The name tf.nn.max_pool is deprecated. Please use tf.nn.max_pool2d instead.\n",
      "\n",
      "Model: \"sequential_4\"\n",
      "_________________________________________________________________\n",
      "Layer (type)                 Output Shape              Param #   \n",
      "=================================================================\n",
      "embedding_3 (Embedding)      (None, 100, 128)          1280000   \n",
      "_________________________________________________________________\n",
      "conv1d_1 (Conv1D)            (None, 94, 32)            28704     \n",
      "_________________________________________________________________\n",
      "max_pooling1d_1 (MaxPooling1 (None, 18, 32)            0         \n",
      "_________________________________________________________________\n",
      "conv1d_2 (Conv1D)            (None, 12, 32)            7200      \n",
      "_________________________________________________________________\n",
      "global_max_pooling1d_1 (Glob (None, 32)                0         \n",
      "_________________________________________________________________\n",
      "dense_4 (Dense)              (None, 1)                 33        \n",
      "=================================================================\n",
      "Total params: 1,315,937\n",
      "Trainable params: 1,315,937\n",
      "Non-trainable params: 0\n",
      "_________________________________________________________________\n",
      "Train on 5600 samples, validate on 1400 samples\n",
      "Epoch 1/10\n",
      "5600/5600 [==============================] - 3s 511us/step - loss: 1.0136 - acc: 0.5000 - val_loss: 0.7872 - val_acc: 0.4921\n",
      "Epoch 2/10\n",
      "5600/5600 [==============================] - 3s 471us/step - loss: 0.7089 - acc: 0.5157 - val_loss: 0.6913 - val_acc: 0.5214\n",
      "Epoch 3/10\n",
      "5600/5600 [==============================] - 3s 498us/step - loss: 0.6673 - acc: 0.6986 - val_loss: 0.6838 - val_acc: 0.5957\n",
      "Epoch 4/10\n",
      "5600/5600 [==============================] - 3s 460us/step - loss: 0.6484 - acc: 0.7920 - val_loss: 0.6779 - val_acc: 0.6164\n",
      "Epoch 5/10\n",
      "5600/5600 [==============================] - 3s 474us/step - loss: 0.6293 - acc: 0.8409 - val_loss: 0.6714 - val_acc: 0.6414\n",
      "Epoch 6/10\n",
      "5600/5600 [==============================] - 3s 466us/step - loss: 0.6099 - acc: 0.8743 - val_loss: 0.6655 - val_acc: 0.6393\n",
      "Epoch 7/10\n",
      "5600/5600 [==============================] - 3s 453us/step - loss: 0.5888 - acc: 0.8971 - val_loss: 0.6556 - val_acc: 0.6664\n",
      "Epoch 8/10\n",
      "5600/5600 [==============================] - 3s 460us/step - loss: 0.5645 - acc: 0.8982 - val_loss: 0.6407 - val_acc: 0.6964\n",
      "Epoch 9/10\n",
      "5600/5600 [==============================] - 3s 457us/step - loss: 0.5370 - acc: 0.9084 - val_loss: 0.6236 - val_acc: 0.7143\n",
      "Epoch 10/10\n",
      "5600/5600 [==============================] - 3s 456us/step - loss: 0.5039 - acc: 0.9062 - val_loss: 0.6008 - val_acc: 0.7243\n"
     ]
    }
   ],
   "source": [
    "# Fit the same data with a simple 1D convnet on the IMDB data\n",
    "from keras import layers\n",
    "from keras.optimizers import RMSprop\n",
    "\n",
    "# Instantiate model\n",
    "model = Sequential()\n",
    "\n",
    "# Add embedding layer to vectorize words\n",
    "model.add(layers.Embedding(max_words, 128, input_length=maxlen))\n",
    "\n",
    "# Add 1D Conv RNN layer\n",
    "model.add(layers.Conv1D(32, 7, activation='relu'))\n",
    "model.add(layers.MaxPooling1D(5))\n",
    "model.add(layers.Conv1D(32, 7, activation='relu'))\n",
    "model.add(layers.GlobalMaxPooling1D())\n",
    "\n",
    "# Binary Classifier Model\n",
    "model.add(layers.Dense(1))\n",
    "\n",
    "# Review layers\n",
    "model.summary()\n",
    "\n",
    "# Compile and fit model\n",
    "model.compile(optimizer=RMSprop(lr=1e-4),\n",
    "              loss='binary_crossentropy',\n",
    "              metrics=['acc'])\n",
    "\n",
    "# Splits previous training set into 80/20 for validation\n",
    "history = model.fit(x_train, y_train,\n",
    "                    epochs=10,\n",
    "                    batch_size=128,\n",
    "                    validation_split=0.2)"
   ]
  },
  {
   "cell_type": "code",
   "execution_count": 16,
   "metadata": {},
   "outputs": [
    {
     "data": {
      "image/png": "[encoded data removed]",
      "text/plain": [
       "<Figure size 432x288 with 1 Axes>"
      ]
     },
     "metadata": {
      "needs_background": "light"
     },
     "output_type": "display_data"
    },
    {
     "data": {
      "image/png": "[encoded data removed]",
      "text/plain": [
       "<Figure size 432x288 with 1 Axes>"
      ]
     },
     "metadata": {
      "needs_background": "light"
     },
     "output_type": "display_data"
    }
   ],
   "source": [
    "# Plot results\n",
    "import matplotlib.pyplot as plt\n",
    "\n",
    "acc = history.history['acc']\n",
    "val_acc = history.history['val_acc']\n",
    "loss = history.history['loss']\n",
    "val_loss = history.history['val_loss']\n",
    "\n",
    "epochs = range(1, len(acc) + 1)\n",
    "\n",
    "plt.plot(epochs, acc, 'bo', label='Training acc')\n",
    "plt.plot(epochs, val_acc, 'b', label='Validation acc')\n",
    "plt.title('Training and validation accuracy')\n",
    "plt.legend()\n",
    "\n",
    "plt.figure()\n",
    "\n",
    "plt.plot(epochs, loss, 'bo', label='Training loss')\n",
    "plt.plot(epochs, val_loss, 'b', label='Validation loss')\n",
    "plt.title('Training and validation loss')\n",
    "plt.legend()\n",
    "\n",
    "plt.show()"
   ]
  },
  {
   "cell_type": "code",
   "execution_count": 17,
   "metadata": {},
   "outputs": [
    {
     "name": "stdout",
     "output_type": "stream",
     "text": [
      "25000/25000 [==============================] - 3s 119us/step\n"
     ]
    },
    {
     "data": {
      "text/plain": [
       "[0.6050236287117005, 0.7178000211715698]"
      ]
     },
     "execution_count": 17,
     "metadata": {},
     "output_type": "execute_result"
    }
   ],
   "source": [
    "# Evaluate the model on the test set\n",
    "model.evaluate(x_test, y_test)"
   ]
  },
  {
   "cell_type": "markdown",
   "metadata": {},
   "source": [
    "With the 1D convnet, accuracy is a little lower at 71%, but processing time was much faster."
   ]
  }
 ],
 "metadata": {
  "kernelspec": {
   "display_name": "Python 3",
   "language": "python",
   "name": "python3"
  },
  "language_info": {
   "codemirror_mode": {
    "name": "ipython",
    "version": 3
   },
   "file_extension": ".py",
   "mimetype": "text/x-python",
   "name": "python",
   "nbconvert_exporter": "python",
   "pygments_lexer": "ipython3",
   "version": "3.7.6"
  }
 },
 "nbformat": 4,
 "nbformat_minor": 4
}
