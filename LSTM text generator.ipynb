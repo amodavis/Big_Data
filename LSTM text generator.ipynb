{
 "cells": [
  {
   "cell_type": "markdown",
   "metadata": {},
   "source": [
    "# File information\n",
    "File: Assignment11.ipynb\n",
    "\n",
    "Name: Amie Davis\n",
    "\n",
    "Date: 2/17/2021\n",
    "\n",
    "Course: DSC650 - Big Data\n",
    "\n",
    "Assignment Number: 11\n",
    "\n",
    "Purpose: Experiment with advanced deep learning use cases including text and image generation"
   ]
  },
  {
   "cell_type": "markdown",
   "metadata": {},
   "source": [
    "# References:\n",
    "\n",
    "Chollet, F. (2018). Deep learning with Python. Shelter Island, NY: Manning Publications.\n"
   ]
  },
  {
   "cell_type": "markdown",
   "metadata": {},
   "source": [
    "# Assignment 11\n",
    "Using section 8.1 in Deep Learning with Python as a guide, implement an LSTM text generator. Train the model on the Enron corpus or a text source of your choice. Save the model and generate 20 examples to the results directory."
   ]
  },
  {
   "cell_type": "code",
   "execution_count": 27,
   "metadata": {},
   "outputs": [],
   "source": [
    "# Create corpus from files in enron folder\n",
    "import os\n",
    "\n",
    "file_dir = \"enron\"\n",
    "corpus_file = \"enron_corpos.txt\"\n",
    "\n",
    "with open(corpus_file, \"w\") as outfile:\n",
    "    for root, dir, files in os.walk(file_dir):\n",
    "        for file in files:\n",
    "            with open(os.path.join(root, file), \"r\") as infile:\n",
    "#                print(infile)\n",
    "                outfile.write(infile.read())           "
   ]
  },
  {
   "cell_type": "code",
   "execution_count": 32,
   "metadata": {},
   "outputs": [
    {
     "name": "stdout",
     "output_type": "stream",
     "text": [
      "Original Corpus length: 34080525\n",
      "Truncated Corpus length: 1000000\n"
     ]
    }
   ],
   "source": [
    "# Convert corpus to lowercase\n",
    "path = 'enron_corpos.txt'\n",
    "orig_text = open(path).read().lower()\n",
    "print('Original Corpus length:', len(orig_text))\n",
    "\n",
    "# Truncate corpus to prevent memory allocation error\n",
    "text = text[:1000000]\n",
    "print('Truncated Corpus length:', len(text))"
   ]
  },
  {
   "cell_type": "code",
   "execution_count": 53,
   "metadata": {},
   "outputs": [
    {
     "name": "stdout",
     "output_type": "stream",
     "text": [
      "Number of sequences: 333314\n",
      "Unique characters: 66\n",
      "Vectorization...\n"
     ]
    }
   ],
   "source": [
    "# Vectorize sequence of characters\n",
    "\n",
    "import numpy as np\n",
    "\n",
    "maxlen = 60    # extract sequence of 60 characters\n",
    "step = 3       # sample a new sequence every 3 characters\n",
    "\n",
    "sentences = []\n",
    "next_chars = []\n",
    "\n",
    "for i in range(0, len(text) - maxlen, step):\n",
    "    sentences.append(text[i: i + maxlen])\n",
    "    next_chars.append(text[i + maxlen])\n",
    "\n",
    "print('Number of sequences:', len(sentences))\n",
    "\n",
    "# Lists unique characters in the corpus\n",
    "chars = sorted(list(set(text)))\n",
    "print('Unique characters:', len(chars))\n",
    "\n",
    "# Maps unique characters to their index\n",
    "char_indices = dict((char, chars.index(char)) for char in chars)\n",
    "\n",
    "# One-hot Encode the characters\n",
    "print('Vectorization...')\n",
    "x = np.zeros((len(sentences), maxlen, len(chars)), dtype=np.bool)\n",
    "y = np.zeros((len(sentences), len(chars)), dtype=np.bool)\n",
    "for i, sentence in enumerate(sentences):\n",
    "    for t, char in enumerate(sentence):\n",
    "        x[i, t, char_indices[char]] = 1\n",
    "    y[i, char_indices[next_chars[i]]] = 1\n"
   ]
  },
  {
   "cell_type": "code",
   "execution_count": 54,
   "metadata": {},
   "outputs": [],
   "source": [
    "# Create LSTM model to predict next character\n",
    "\n",
    "import keras\n",
    "from keras import layers\n",
    "\n",
    "model = keras.models.Sequential()\n",
    "model.add(layers.LSTM(128, input_shape=(maxlen, len(chars))))\n",
    "model.add(layers.Dense(len(chars), activation='softmax'))"
   ]
  },
  {
   "cell_type": "code",
   "execution_count": 55,
   "metadata": {},
   "outputs": [],
   "source": [
    "# Compile model\n",
    "\n",
    "optimizer = keras.optimizers.RMSprop(lr=0.01)\n",
    "model.compile(loss='categorical_crossentropy', optimizer=optimizer)"
   ]
  },
  {
   "cell_type": "code",
   "execution_count": 56,
   "metadata": {},
   "outputs": [],
   "source": [
    "# Function to sample the next character given the model’s predictions\n",
    "def sample(preds, temperature=1.0):\n",
    "    preds = np.asarray(preds).astype('float64')\n",
    "    preds = np.log(preds) / temperature\n",
    "    exp_preds = np.exp(preds)\n",
    "    preds = exp_preds / np.sum(exp_preds)\n",
    "    probas = np.random.multinomial(1, preds, 1)\n",
    "    return np.argmax(probas)"
   ]
  },
  {
   "cell_type": "code",
   "execution_count": 57,
   "metadata": {},
   "outputs": [
    {
     "name": "stderr",
     "output_type": "stream",
     "text": [
      "C:\\Users\\amomu\\Anaconda3\\lib\\site-packages\\ipykernel_launcher.py:4: RuntimeWarning: divide by zero encountered in log\n",
      "  after removing the cwd from sys.path.\n"
     ]
    }
   ],
   "source": [
    "# Generate Text\n",
    "# Output results to file\n",
    "\n",
    "import random\n",
    "import sys\n",
    "from contextlib import redirect_stdout\n",
    "\n",
    "results_dir = \"results\"\n",
    "output_file = os.path.join(results_dir, \"output.txt\")\n",
    "\n",
    "# Change standard output to file\n",
    "with open(output_file, 'w') as f:\n",
    "    with redirect_stdout(f):\n",
    "\n",
    "        # Trains the model for 20 epochs\n",
    "        for epoch in range(1, 21):\n",
    "            print('epoch', epoch)\n",
    "    \n",
    "            # Fits model for one iteration of data\n",
    "            model.fit(x, y, batch_size=128, epochs=1)\n",
    "    \n",
    "            # Select a text seed at random\n",
    "            start_index = random.randint(0, len(text) - maxlen - 1)\n",
    "            generated_text = text[start_index: start_index + maxlen]\n",
    "            print('--- Generating with seed: \"' + generated_text + '\"')\n",
    "    \n",
    "            # Tries a range of different sampling temperatures\n",
    "            for temperature in [0.2, 0.5, 1.0, 1.2]:\n",
    "                print('------ temperature:', temperature)\n",
    "                sys.stdout.write(generated_text)\n",
    "\n",
    "                # Generates 400 characters starting from the seed text\n",
    "                for i in range(400):\n",
    "                    sampled = np.zeros((1, maxlen, len(chars)))\n",
    "            \n",
    "                    # One hot-encodes the characters\n",
    "                    for t, char in enumerate(generated_text):\n",
    "                        sampled[0, t, char_indices[char]] = 1.\n",
    "\n",
    "                    # Samples the next character\n",
    "                    preds = model.predict(sampled, verbose=0)[0]\n",
    "                    next_index = sample(preds, temperature)\n",
    "                    next_char = chars[next_index]\n",
    "\n",
    "                    generated_text += next_char\n",
    "                    generated_text = generated_text[1:]\n",
    "\n",
    "                    sys.stdout.write(next_char)"
   ]
  },
  {
   "cell_type": "code",
   "execution_count": 58,
   "metadata": {},
   "outputs": [],
   "source": [
    "# Save model\n",
    "model_file = os.path.join(results_dir, \"enron_textgen.h5\")\n",
    "\n",
    "model.save(model_file)"
   ]
  },
  {
   "cell_type": "code",
   "execution_count": null,
   "metadata": {},
   "outputs": [],
   "source": []
  }
 ],
 "metadata": {
  "kernelspec": {
   "display_name": "Python 3",
   "language": "python",
   "name": "python3"
  },
  "language_info": {
   "codemirror_mode": {
    "name": "ipython",
    "version": 3
   },
   "file_extension": ".py",
   "mimetype": "text/x-python",
   "name": "python",
   "nbconvert_exporter": "python",
   "pygments_lexer": "ipython3",
   "version": "3.7.6"
  }
 },
 "nbformat": 4,
 "nbformat_minor": 4
}
